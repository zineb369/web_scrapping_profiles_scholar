{
 "cells": [
  {
   "cell_type": "markdown",
   "id": "3865fc9e",
   "metadata": {},
   "source": [
    "# ATELIER : ACP--scholar"
   ]
  },
  {
   "cell_type": "markdown",
   "id": "a0bcfdcc",
   "metadata": {},
   "source": [
    "## Etude des individus:"
   ]
  },
  {
   "cell_type": "markdown",
   "id": "2373f336",
   "metadata": {},
   "source": [
    "### Importation des données"
   ]
  },
  {
   "cell_type": "raw",
   "id": "8efd1be0",
   "metadata": {},
   "source": [
    "La première étape consiste à importer les données. Pour ce faire, vous devez télécharger le fichier \"electric_vehicles_data.csv\" "
   ]
  },
  {
   "cell_type": "code",
   "execution_count": 3,
   "id": "63755089",
   "metadata": {},
   "outputs": [
    {
     "data": {
      "text/html": [
       "<div>\n",
       "<style scoped>\n",
       "    .dataframe tbody tr th:only-of-type {\n",
       "        vertical-align: middle;\n",
       "    }\n",
       "\n",
       "    .dataframe tbody tr th {\n",
       "        vertical-align: top;\n",
       "    }\n",
       "\n",
       "    .dataframe thead th {\n",
       "        text-align: right;\n",
       "    }\n",
       "</style>\n",
       "<table border=\"1\" class=\"dataframe\">\n",
       "  <thead>\n",
       "    <tr style=\"text-align: right;\">\n",
       "      <th></th>\n",
       "      <th>profile</th>\n",
       "      <th>citation_count</th>\n",
       "      <th>h_index</th>\n",
       "      <th>i_index</th>\n",
       "      <th>article_count</th>\n",
       "    </tr>\n",
       "  </thead>\n",
       "  <tbody>\n",
       "    <tr>\n",
       "      <th>0</th>\n",
       "      <td>Khalid BERRADA</td>\n",
       "      <td>814</td>\n",
       "      <td>13</td>\n",
       "      <td>18</td>\n",
       "      <td>814</td>\n",
       "    </tr>\n",
       "    <tr>\n",
       "      <th>1</th>\n",
       "      <td>Rachid Bendaoud</td>\n",
       "      <td>245</td>\n",
       "      <td>9</td>\n",
       "      <td>9</td>\n",
       "      <td>245</td>\n",
       "    </tr>\n",
       "    <tr>\n",
       "      <th>2</th>\n",
       "      <td>MACHWATE</td>\n",
       "      <td>114</td>\n",
       "      <td>6</td>\n",
       "      <td>4</td>\n",
       "      <td>114</td>\n",
       "    </tr>\n",
       "    <tr>\n",
       "      <th>3</th>\n",
       "      <td>Laurent Gajo</td>\n",
       "      <td>2853</td>\n",
       "      <td>26</td>\n",
       "      <td>52</td>\n",
       "      <td>2853</td>\n",
       "    </tr>\n",
       "    <tr>\n",
       "      <th>4</th>\n",
       "      <td>Vincent Larivière</td>\n",
       "      <td>24616</td>\n",
       "      <td>72</td>\n",
       "      <td>196</td>\n",
       "      <td>24616</td>\n",
       "    </tr>\n",
       "    <tr>\n",
       "      <th>5</th>\n",
       "      <td>Mohammed aziz elhoumaizi</td>\n",
       "      <td>566</td>\n",
       "      <td>9</td>\n",
       "      <td>9</td>\n",
       "      <td>566</td>\n",
       "    </tr>\n",
       "    <tr>\n",
       "      <th>6</th>\n",
       "      <td>Khadija EL KHARKI</td>\n",
       "      <td>140</td>\n",
       "      <td>7</td>\n",
       "      <td>4</td>\n",
       "      <td>140</td>\n",
       "    </tr>\n",
       "    <tr>\n",
       "      <th>7</th>\n",
       "      <td>Bernadette CHARLIER</td>\n",
       "      <td>3700</td>\n",
       "      <td>29</td>\n",
       "      <td>65</td>\n",
       "      <td>3700</td>\n",
       "    </tr>\n",
       "    <tr>\n",
       "      <th>8</th>\n",
       "      <td>Nathalie Deschryver</td>\n",
       "      <td>1751</td>\n",
       "      <td>17</td>\n",
       "      <td>30</td>\n",
       "      <td>1751</td>\n",
       "    </tr>\n",
       "    <tr>\n",
       "      <th>9</th>\n",
       "      <td>Khadija EL KHARKI</td>\n",
       "      <td>140</td>\n",
       "      <td>7</td>\n",
       "      <td>4</td>\n",
       "      <td>140</td>\n",
       "    </tr>\n",
       "    <tr>\n",
       "      <th>10</th>\n",
       "      <td>Noureddine Samlak</td>\n",
       "      <td>12</td>\n",
       "      <td>2</td>\n",
       "      <td>0</td>\n",
       "      <td>12</td>\n",
       "    </tr>\n",
       "    <tr>\n",
       "      <th>11</th>\n",
       "      <td>Daniel Burgos</td>\n",
       "      <td>7406</td>\n",
       "      <td>42</td>\n",
       "      <td>126</td>\n",
       "      <td>7406</td>\n",
       "    </tr>\n",
       "    <tr>\n",
       "      <th>12</th>\n",
       "      <td>Zouhair Benkhaldoun</td>\n",
       "      <td>4954</td>\n",
       "      <td>33</td>\n",
       "      <td>77</td>\n",
       "      <td>4954</td>\n",
       "    </tr>\n",
       "    <tr>\n",
       "      <th>13</th>\n",
       "      <td>Moulay Othman Idrissi Fakhreddine</td>\n",
       "      <td>365</td>\n",
       "      <td>5</td>\n",
       "      <td>5</td>\n",
       "      <td>365</td>\n",
       "    </tr>\n",
       "    <tr>\n",
       "      <th>14</th>\n",
       "      <td>Zakaria KNIDIRI</td>\n",
       "      <td>10</td>\n",
       "      <td>2</td>\n",
       "      <td>0</td>\n",
       "      <td>10</td>\n",
       "    </tr>\n",
       "    <tr>\n",
       "      <th>15</th>\n",
       "      <td>Abdelkhaleq AFIRI</td>\n",
       "      <td>118</td>\n",
       "      <td>3</td>\n",
       "      <td>2</td>\n",
       "      <td>118</td>\n",
       "    </tr>\n",
       "    <tr>\n",
       "      <th>16</th>\n",
       "      <td>Youssef El Azhari</td>\n",
       "      <td>185</td>\n",
       "      <td>7</td>\n",
       "      <td>6</td>\n",
       "      <td>185</td>\n",
       "    </tr>\n",
       "    <tr>\n",
       "      <th>17</th>\n",
       "      <td>Essaid El Bachari</td>\n",
       "      <td>438</td>\n",
       "      <td>9</td>\n",
       "      <td>9</td>\n",
       "      <td>438</td>\n",
       "    </tr>\n",
       "    <tr>\n",
       "      <th>18</th>\n",
       "      <td>Outmane Bourkoukou</td>\n",
       "      <td>243</td>\n",
       "      <td>6</td>\n",
       "      <td>5</td>\n",
       "      <td>243</td>\n",
       "    </tr>\n",
       "    <tr>\n",
       "      <th>19</th>\n",
       "      <td>El Hassan ABDELWAHED</td>\n",
       "      <td>478</td>\n",
       "      <td>11</td>\n",
       "      <td>13</td>\n",
       "      <td>478</td>\n",
       "    </tr>\n",
       "    <tr>\n",
       "      <th>20</th>\n",
       "      <td>Hamid KADDAMI</td>\n",
       "      <td>3580</td>\n",
       "      <td>34</td>\n",
       "      <td>64</td>\n",
       "      <td>3580</td>\n",
       "    </tr>\n",
       "    <tr>\n",
       "      <th>21</th>\n",
       "      <td>Brahim Bouali</td>\n",
       "      <td>1</td>\n",
       "      <td>1</td>\n",
       "      <td>0</td>\n",
       "      <td>1</td>\n",
       "    </tr>\n",
       "    <tr>\n",
       "      <th>22</th>\n",
       "      <td>Soulaimani Abderrahmane</td>\n",
       "      <td>3322</td>\n",
       "      <td>29</td>\n",
       "      <td>52</td>\n",
       "      <td>3322</td>\n",
       "    </tr>\n",
       "    <tr>\n",
       "      <th>23</th>\n",
       "      <td>Bertrand Lefebvre</td>\n",
       "      <td>2946</td>\n",
       "      <td>28</td>\n",
       "      <td>78</td>\n",
       "      <td>2946</td>\n",
       "    </tr>\n",
       "    <tr>\n",
       "      <th>24</th>\n",
       "      <td>Younes Bahammou</td>\n",
       "      <td>472</td>\n",
       "      <td>10</td>\n",
       "      <td>12</td>\n",
       "      <td>472</td>\n",
       "    </tr>\n",
       "    <tr>\n",
       "      <th>25</th>\n",
       "      <td>HAMZA LAMSYEHE</td>\n",
       "      <td>287</td>\n",
       "      <td>8</td>\n",
       "      <td>8</td>\n",
       "      <td>287</td>\n",
       "    </tr>\n",
       "    <tr>\n",
       "      <th>26</th>\n",
       "      <td>Zakaria Tagnamas</td>\n",
       "      <td>431</td>\n",
       "      <td>10</td>\n",
       "      <td>12</td>\n",
       "      <td>431</td>\n",
       "    </tr>\n",
       "    <tr>\n",
       "      <th>27</th>\n",
       "      <td>Gilles Celeux</td>\n",
       "      <td>18156</td>\n",
       "      <td>47</td>\n",
       "      <td>93</td>\n",
       "      <td>18156</td>\n",
       "    </tr>\n",
       "    <tr>\n",
       "      <th>28</th>\n",
       "      <td>Stéphane Chrétien</td>\n",
       "      <td>990</td>\n",
       "      <td>14</td>\n",
       "      <td>23</td>\n",
       "      <td>990</td>\n",
       "    </tr>\n",
       "    <tr>\n",
       "      <th>29</th>\n",
       "      <td>Florence Forbes</td>\n",
       "      <td>10853</td>\n",
       "      <td>31</td>\n",
       "      <td>72</td>\n",
       "      <td>10853</td>\n",
       "    </tr>\n",
       "    <tr>\n",
       "      <th>30</th>\n",
       "      <td>Dr. Kenza Maher</td>\n",
       "      <td>865</td>\n",
       "      <td>11</td>\n",
       "      <td>11</td>\n",
       "      <td>865</td>\n",
       "    </tr>\n",
       "    <tr>\n",
       "      <th>31</th>\n",
       "      <td>BOUAZZA abdellah</td>\n",
       "      <td>150</td>\n",
       "      <td>7</td>\n",
       "      <td>6</td>\n",
       "      <td>150</td>\n",
       "    </tr>\n",
       "    <tr>\n",
       "      <th>32</th>\n",
       "      <td>Slimani Tahar</td>\n",
       "      <td>2445</td>\n",
       "      <td>20</td>\n",
       "      <td>38</td>\n",
       "      <td>2445</td>\n",
       "    </tr>\n",
       "    <tr>\n",
       "      <th>33</th>\n",
       "      <td>El Hassan EL MOUDEN</td>\n",
       "      <td>5643</td>\n",
       "      <td>23</td>\n",
       "      <td>48</td>\n",
       "      <td>5643</td>\n",
       "    </tr>\n",
       "    <tr>\n",
       "      <th>34</th>\n",
       "      <td>Bernard Schéou</td>\n",
       "      <td>304</td>\n",
       "      <td>8</td>\n",
       "      <td>7</td>\n",
       "      <td>304</td>\n",
       "    </tr>\n",
       "    <tr>\n",
       "      <th>35</th>\n",
       "      <td>IBNELOUAD Aouatif</td>\n",
       "      <td>57</td>\n",
       "      <td>4</td>\n",
       "      <td>2</td>\n",
       "      <td>57</td>\n",
       "    </tr>\n",
       "    <tr>\n",
       "      <th>36</th>\n",
       "      <td>M. Hajjaji</td>\n",
       "      <td>1763</td>\n",
       "      <td>23</td>\n",
       "      <td>42</td>\n",
       "      <td>1763</td>\n",
       "    </tr>\n",
       "    <tr>\n",
       "      <th>37</th>\n",
       "      <td>Jabrane Amaghouss</td>\n",
       "      <td>217</td>\n",
       "      <td>8</td>\n",
       "      <td>6</td>\n",
       "      <td>217</td>\n",
       "    </tr>\n",
       "    <tr>\n",
       "      <th>38</th>\n",
       "      <td>Ovide Arino</td>\n",
       "      <td>5533</td>\n",
       "      <td>35</td>\n",
       "      <td>97</td>\n",
       "      <td>5533</td>\n",
       "    </tr>\n",
       "    <tr>\n",
       "      <th>39</th>\n",
       "      <td>Radouan El Bamiki</td>\n",
       "      <td>60</td>\n",
       "      <td>3</td>\n",
       "      <td>2</td>\n",
       "      <td>60</td>\n",
       "    </tr>\n",
       "    <tr>\n",
       "      <th>40</th>\n",
       "      <td>ouhammou ahmed ouhammou ahmed</td>\n",
       "      <td>1368</td>\n",
       "      <td>16</td>\n",
       "      <td>19</td>\n",
       "      <td>1368</td>\n",
       "    </tr>\n",
       "    <tr>\n",
       "      <th>41</th>\n",
       "      <td>Mustapha RAIHANE</td>\n",
       "      <td>1824</td>\n",
       "      <td>24</td>\n",
       "      <td>51</td>\n",
       "      <td>1824</td>\n",
       "    </tr>\n",
       "    <tr>\n",
       "      <th>42</th>\n",
       "      <td>Mehmet Atilla Tasdelen (ORCID: 0000-0002-7012-...</td>\n",
       "      <td>9879</td>\n",
       "      <td>53</td>\n",
       "      <td>112</td>\n",
       "      <td>9879</td>\n",
       "    </tr>\n",
       "    <tr>\n",
       "      <th>43</th>\n",
       "      <td>Ibrahima N’Doye</td>\n",
       "      <td>1000</td>\n",
       "      <td>16</td>\n",
       "      <td>25</td>\n",
       "      <td>1000</td>\n",
       "    </tr>\n",
       "    <tr>\n",
       "      <th>44</th>\n",
       "      <td>Zouhair Benkhaldoun</td>\n",
       "      <td>4954</td>\n",
       "      <td>33</td>\n",
       "      <td>77</td>\n",
       "      <td>4954</td>\n",
       "    </tr>\n",
       "    <tr>\n",
       "      <th>45</th>\n",
       "      <td>SOUFIANE LAHBOUKI</td>\n",
       "      <td>127</td>\n",
       "      <td>5</td>\n",
       "      <td>4</td>\n",
       "      <td>127</td>\n",
       "    </tr>\n",
       "    <tr>\n",
       "      <th>46</th>\n",
       "      <td>Raja Ben-Laouane</td>\n",
       "      <td>1308</td>\n",
       "      <td>21</td>\n",
       "      <td>30</td>\n",
       "      <td>1308</td>\n",
       "    </tr>\n",
       "    <tr>\n",
       "      <th>47</th>\n",
       "      <td>Abdelkader Outzourhit</td>\n",
       "      <td>3973</td>\n",
       "      <td>29</td>\n",
       "      <td>105</td>\n",
       "      <td>3973</td>\n",
       "    </tr>\n",
       "    <tr>\n",
       "      <th>48</th>\n",
       "      <td>BRAHIM ADMOU</td>\n",
       "      <td>666</td>\n",
       "      <td>10</td>\n",
       "      <td>10</td>\n",
       "      <td>666</td>\n",
       "    </tr>\n",
       "    <tr>\n",
       "      <th>49</th>\n",
       "      <td>Hicham EL KHALIL</td>\n",
       "      <td>488</td>\n",
       "      <td>8</td>\n",
       "      <td>8</td>\n",
       "      <td>488</td>\n",
       "    </tr>\n",
       "  </tbody>\n",
       "</table>\n",
       "</div>"
      ],
      "text/plain": [
       "                                              profile  citation_count  \\\n",
       "0                                      Khalid BERRADA             814   \n",
       "1                                     Rachid Bendaoud             245   \n",
       "2                                            MACHWATE             114   \n",
       "3                                        Laurent Gajo            2853   \n",
       "4                                   Vincent Larivière           24616   \n",
       "5                            Mohammed aziz elhoumaizi             566   \n",
       "6                                   Khadija EL KHARKI             140   \n",
       "7                                 Bernadette CHARLIER            3700   \n",
       "8                                 Nathalie Deschryver            1751   \n",
       "9                                   Khadija EL KHARKI             140   \n",
       "10                                  Noureddine Samlak              12   \n",
       "11                                      Daniel Burgos            7406   \n",
       "12                                Zouhair Benkhaldoun            4954   \n",
       "13                  Moulay Othman Idrissi Fakhreddine             365   \n",
       "14                                    Zakaria KNIDIRI              10   \n",
       "15                                  Abdelkhaleq AFIRI             118   \n",
       "16                                  Youssef El Azhari             185   \n",
       "17                                  Essaid El Bachari             438   \n",
       "18                                 Outmane Bourkoukou             243   \n",
       "19                               El Hassan ABDELWAHED             478   \n",
       "20                                      Hamid KADDAMI            3580   \n",
       "21                                      Brahim Bouali               1   \n",
       "22                            Soulaimani Abderrahmane            3322   \n",
       "23                                  Bertrand Lefebvre            2946   \n",
       "24                                    Younes Bahammou             472   \n",
       "25                                     HAMZA LAMSYEHE             287   \n",
       "26                                   Zakaria Tagnamas             431   \n",
       "27                                      Gilles Celeux           18156   \n",
       "28                                  Stéphane Chrétien             990   \n",
       "29                                    Florence Forbes           10853   \n",
       "30                                    Dr. Kenza Maher             865   \n",
       "31                                   BOUAZZA abdellah             150   \n",
       "32                                      Slimani Tahar            2445   \n",
       "33                                El Hassan EL MOUDEN            5643   \n",
       "34                                     Bernard Schéou             304   \n",
       "35                                  IBNELOUAD Aouatif              57   \n",
       "36                                         M. Hajjaji            1763   \n",
       "37                                  Jabrane Amaghouss             217   \n",
       "38                                        Ovide Arino            5533   \n",
       "39                                  Radouan El Bamiki              60   \n",
       "40                      ouhammou ahmed ouhammou ahmed            1368   \n",
       "41                                   Mustapha RAIHANE            1824   \n",
       "42  Mehmet Atilla Tasdelen (ORCID: 0000-0002-7012-...            9879   \n",
       "43                                    Ibrahima N’Doye            1000   \n",
       "44                                Zouhair Benkhaldoun            4954   \n",
       "45                                  SOUFIANE LAHBOUKI             127   \n",
       "46                                   Raja Ben-Laouane            1308   \n",
       "47                              Abdelkader Outzourhit            3973   \n",
       "48                                       BRAHIM ADMOU             666   \n",
       "49                                   Hicham EL KHALIL             488   \n",
       "\n",
       "    h_index  i_index  article_count  \n",
       "0        13       18            814  \n",
       "1         9        9            245  \n",
       "2         6        4            114  \n",
       "3        26       52           2853  \n",
       "4        72      196          24616  \n",
       "5         9        9            566  \n",
       "6         7        4            140  \n",
       "7        29       65           3700  \n",
       "8        17       30           1751  \n",
       "9         7        4            140  \n",
       "10        2        0             12  \n",
       "11       42      126           7406  \n",
       "12       33       77           4954  \n",
       "13        5        5            365  \n",
       "14        2        0             10  \n",
       "15        3        2            118  \n",
       "16        7        6            185  \n",
       "17        9        9            438  \n",
       "18        6        5            243  \n",
       "19       11       13            478  \n",
       "20       34       64           3580  \n",
       "21        1        0              1  \n",
       "22       29       52           3322  \n",
       "23       28       78           2946  \n",
       "24       10       12            472  \n",
       "25        8        8            287  \n",
       "26       10       12            431  \n",
       "27       47       93          18156  \n",
       "28       14       23            990  \n",
       "29       31       72          10853  \n",
       "30       11       11            865  \n",
       "31        7        6            150  \n",
       "32       20       38           2445  \n",
       "33       23       48           5643  \n",
       "34        8        7            304  \n",
       "35        4        2             57  \n",
       "36       23       42           1763  \n",
       "37        8        6            217  \n",
       "38       35       97           5533  \n",
       "39        3        2             60  \n",
       "40       16       19           1368  \n",
       "41       24       51           1824  \n",
       "42       53      112           9879  \n",
       "43       16       25           1000  \n",
       "44       33       77           4954  \n",
       "45        5        4            127  \n",
       "46       21       30           1308  \n",
       "47       29      105           3973  \n",
       "48       10       10            666  \n",
       "49        8        8            488  "
      ]
     },
     "execution_count": 3,
     "metadata": {},
     "output_type": "execute_result"
    }
   ],
   "source": [
    "\n",
    "import pandas as pd\n",
    "file_path = \"C:\\\\Users\\\\Lenovo\\\\Downloads\\\\output.xlsx\"\n",
    "df = pd.read_excel(file_path, decimal='.')\n",
    "df\n",
    "\n"
   ]
  },
  {
   "cell_type": "markdown",
   "id": "1e73e49d",
   "metadata": {},
   "source": [
    "### Standardisation les données "
   ]
  },
  {
   "cell_type": "code",
   "execution_count": 6,
   "id": "0b646af9",
   "metadata": {},
   "outputs": [
    {
     "name": "stdout",
     "output_type": "stream",
     "text": [
      "    citation_count   h_index   i_index  article_count\n",
      "0        -0.400168 -0.317219 -0.411952      -0.400168\n",
      "1        -0.523768 -0.588346 -0.630558      -0.523768\n",
      "2        -0.552224 -0.791691 -0.752006      -0.552224\n",
      "3         0.042749  0.563945  0.413895       0.042749\n",
      "4         4.770175  3.681907  3.911598       4.770175\n",
      "5        -0.454040 -0.588346 -0.630558      -0.454040\n",
      "6        -0.546577 -0.723910 -0.752006      -0.546577\n",
      "7         0.226737  0.767290  0.729660       0.226737\n",
      "8        -0.196630 -0.046092 -0.120476      -0.196630\n",
      "9        -0.546577 -0.723910 -0.752006      -0.546577\n",
      "10       -0.574381 -1.062819 -0.849165      -0.574381\n",
      "11        1.031766  1.648453  2.211326       1.031766\n",
      "12        0.499135  1.038417  1.021135       0.499135\n",
      "13       -0.497701 -0.859473 -0.727717      -0.497701\n",
      "14       -0.574816 -1.062819 -0.849165      -0.574816\n",
      "15       -0.551356 -0.995037 -0.800585      -0.551356\n",
      "16       -0.536802 -0.723910 -0.703427      -0.536802\n",
      "17       -0.481844 -0.588346 -0.630558      -0.481844\n",
      "18       -0.524203 -0.791691 -0.727717      -0.524203\n",
      "19       -0.473155 -0.452782 -0.533400      -0.473155\n",
      "20        0.200671  1.106199  0.705370       0.200671\n",
      "21       -0.576771 -1.130600 -0.849165      -0.576771\n",
      "22        0.144627  0.767290  0.413895       0.144627\n",
      "23        0.062951  0.699508  1.045425       0.062951\n",
      "24       -0.474459 -0.520564 -0.557689      -0.474459\n",
      "25       -0.514645 -0.656128 -0.654848      -0.514645\n",
      "26       -0.483365 -0.520564 -0.557689      -0.483365\n",
      "27        3.366914  1.987362  1.409769       3.366914\n",
      "28       -0.361937 -0.249437 -0.290504      -0.361937\n",
      "29        1.780534  0.902854  0.899687       1.780534\n",
      "30       -0.389090 -0.452782 -0.581979      -0.389090\n",
      "31       -0.544404 -0.723910 -0.703427      -0.544404\n",
      "32       -0.045878  0.157254  0.073840      -0.045878\n",
      "33        0.648802  0.360599  0.316736       0.648802\n",
      "34       -0.510952 -0.656128 -0.679137      -0.510952\n",
      "35       -0.564606 -0.927255 -0.800585      -0.564606\n",
      "36       -0.194024  0.360599  0.170999      -0.194024\n",
      "37       -0.529850 -0.656128 -0.703427      -0.529850\n",
      "38        0.624907  1.173981  1.506927       0.624907\n",
      "39       -0.563954 -0.995037 -0.800585      -0.563954\n",
      "40       -0.279827 -0.113873 -0.387662      -0.279827\n",
      "41       -0.180773  0.428381  0.389605      -0.180773\n",
      "42        1.568959  2.394053  1.871271       1.568959\n",
      "43       -0.359765 -0.113873 -0.241924      -0.359765\n",
      "44        0.499135  1.038417  1.021135       0.499135\n",
      "45       -0.549401 -0.859473 -0.752006      -0.549401\n",
      "46       -0.292860  0.225036 -0.120476      -0.292860\n",
      "47        0.286039  0.767290  1.701244       0.286039\n",
      "48       -0.432317 -0.520564 -0.606269      -0.432317\n",
      "49       -0.470983 -0.656128 -0.654848      -0.470983\n"
     ]
    }
   ],
   "source": [
    "from sklearn.preprocessing import StandardScaler\n",
    "import pandas as pd\n",
    "\n",
    "# Assuming df is your DataFrame\n",
    "df = pd.read_excel(\"C:\\\\Users\\\\Lenovo\\\\Downloads\\\\output.xlsx\", decimal='.')\n",
    "\n",
    "# Sélectionner les colonnes numériques à centrer et réduire\n",
    "columns_to_scale = df.select_dtypes(include=['number']).columns\n",
    "\n",
    "# Créer un objet StandardScaler\n",
    "scaler = StandardScaler()\n",
    "\n",
    "# Centrer et réduire les données\n",
    "df_scaled_values = scaler.fit_transform(df[columns_to_scale])\n",
    "\n",
    "# Créer un nouveau DataFrame avec les données centrées et réduites\n",
    "df_scaled = pd.DataFrame(df_scaled_values, columns=columns_to_scale)\n",
    "\n",
    "# Afficher le DataFrame avec les données centrées et réduites\n",
    "print(df_scaled)\n"
   ]
  },
  {
   "cell_type": "code",
   "execution_count": 7,
   "id": "3c56ea54",
   "metadata": {},
   "outputs": [
    {
     "name": "stdout",
     "output_type": "stream",
     "text": [
      "Moyennes après centrage et réduction :\n",
      " citation_count    3.885781e-17\n",
      "h_index           2.886580e-17\n",
      "i_index          -7.105427e-17\n",
      "article_count     3.885781e-17\n",
      "dtype: float64\n",
      "\n",
      "Écarts-types après centrage et réduction :\n",
      " citation_count    1.010153\n",
      "h_index           1.010153\n",
      "i_index           1.010153\n",
      "article_count     1.010153\n",
      "dtype: float64\n"
     ]
    }
   ],
   "source": [
    "# Calculer les moyennes et les écarts-types des colonnes centrées et réduites\n",
    "means = df_scaled.mean()\n",
    "std_devs = df_scaled.std()\n",
    "\n",
    "# Afficher les moyennes\n",
    "print(\"Moyennes après centrage et réduction :\\n\", means)\n",
    "\n",
    "# Afficher les écarts-types\n",
    "print(\"\\nÉcarts-types après centrage et réduction :\\n\", std_devs)\n"
   ]
  },
  {
   "cell_type": "markdown",
   "id": "87576dd8",
   "metadata": {},
   "source": [
    "### Matrice d'inertie"
   ]
  },
  {
   "cell_type": "raw",
   "id": "4eb0a833",
   "metadata": {},
   "source": [
    "# Calculer la matrice de covariance\n",
    "# Afficher la matrice de covariance\n",
    "\n"
   ]
  },
  {
   "cell_type": "code",
   "execution_count": 8,
   "id": "e641b310",
   "metadata": {},
   "outputs": [
    {
     "name": "stdout",
     "output_type": "stream",
     "text": [
      "Matrice d'inertie :\n",
      "\n"
     ]
    },
    {
     "data": {
      "text/html": [
       "<div>\n",
       "<style scoped>\n",
       "    .dataframe tbody tr th:only-of-type {\n",
       "        vertical-align: middle;\n",
       "    }\n",
       "\n",
       "    .dataframe tbody tr th {\n",
       "        vertical-align: top;\n",
       "    }\n",
       "\n",
       "    .dataframe thead th {\n",
       "        text-align: right;\n",
       "    }\n",
       "</style>\n",
       "<table border=\"1\" class=\"dataframe\">\n",
       "  <thead>\n",
       "    <tr style=\"text-align: right;\">\n",
       "      <th></th>\n",
       "      <th>citation_count</th>\n",
       "      <th>h_index</th>\n",
       "      <th>i_index</th>\n",
       "      <th>article_count</th>\n",
       "    </tr>\n",
       "  </thead>\n",
       "  <tbody>\n",
       "    <tr>\n",
       "      <th>citation_count</th>\n",
       "      <td>1.020408</td>\n",
       "      <td>0.904734</td>\n",
       "      <td>0.883100</td>\n",
       "      <td>1.020408</td>\n",
       "    </tr>\n",
       "    <tr>\n",
       "      <th>h_index</th>\n",
       "      <td>0.904734</td>\n",
       "      <td>1.020408</td>\n",
       "      <td>0.989763</td>\n",
       "      <td>0.904734</td>\n",
       "    </tr>\n",
       "    <tr>\n",
       "      <th>i_index</th>\n",
       "      <td>0.883100</td>\n",
       "      <td>0.989763</td>\n",
       "      <td>1.020408</td>\n",
       "      <td>0.883100</td>\n",
       "    </tr>\n",
       "    <tr>\n",
       "      <th>article_count</th>\n",
       "      <td>1.020408</td>\n",
       "      <td>0.904734</td>\n",
       "      <td>0.883100</td>\n",
       "      <td>1.020408</td>\n",
       "    </tr>\n",
       "  </tbody>\n",
       "</table>\n",
       "</div>"
      ],
      "text/plain": [
       "                citation_count   h_index   i_index  article_count\n",
       "citation_count        1.020408  0.904734  0.883100       1.020408\n",
       "h_index               0.904734  1.020408  0.989763       0.904734\n",
       "i_index               0.883100  0.989763  1.020408       0.883100\n",
       "article_count         1.020408  0.904734  0.883100       1.020408"
      ]
     },
     "execution_count": 8,
     "metadata": {},
     "output_type": "execute_result"
    }
   ],
   "source": [
    "# Calculer la matrice de covariance\n",
    "inertia_matrix = df_scaled.cov()\n",
    "\n",
    "# Afficher la matrice de covariance\n",
    "print(\"Matrice d'inertie :\\n\")\n",
    "inertia_matrix\n"
   ]
  },
  {
   "cell_type": "markdown",
   "id": "fb03abbe",
   "metadata": {},
   "source": [
    "###  calculer les Valeurs Propres"
   ]
  },
  {
   "cell_type": "code",
   "execution_count": 9,
   "id": "3847f497",
   "metadata": {},
   "outputs": [
    {
     "name": "stdout",
     "output_type": "stream",
     "text": [
      "Valeurs propres :\n",
      " [ 3.81345584e+00  2.38708892e-01 -5.19800040e-17  2.94679196e-02]\n"
     ]
    }
   ],
   "source": [
    "import numpy as np\n",
    "\n",
    "# Calculer les valeurs propres\n",
    "eigenvalues, _ = np.linalg.eig(inertia_matrix)\n",
    "\n",
    "# Afficher les valeurs propres\n",
    "print(\"Valeurs propres :\\n\", eigenvalues)\n"
   ]
  },
  {
   "cell_type": "markdown",
   "id": "f01ea641",
   "metadata": {},
   "source": [
    "### calculer la Variance expliquée et  variance cumulé "
   ]
  },
  {
   "cell_type": "raw",
   "id": "91a3b40b",
   "metadata": {},
   "source": [
    "# Calculer la variance et la variance cumulée\n",
    "# Afficher les résultats\n"
   ]
  },
  {
   "cell_type": "code",
   "execution_count": 10,
   "id": "0f876e8e",
   "metadata": {},
   "outputs": [
    {
     "name": "stdout",
     "output_type": "stream",
     "text": [
      "Variance associée à chaque valeur propre :\n",
      " [ 3.81345584e+00  2.38708892e-01 -5.19800040e-17  2.94679196e-02]\n",
      "\n",
      "Variance cumulée associée à chaque valeur propre :\n",
      " [0.93429668 0.99278036 0.99278036 1.        ]\n"
     ]
    }
   ],
   "source": [
    "# Calculer la variance et la variance cumulée\n",
    "total_variance = np.sum(eigenvalues)\n",
    "variance_ratio = eigenvalues / total_variance\n",
    "cumulative_variance_ratio = np.cumsum(variance_ratio)\n",
    "\n",
    "# Afficher les résultats\n",
    "print(\"Variance associée à chaque valeur propre :\\n\", eigenvalues)\n",
    "print(\"\\nVariance cumulée associée à chaque valeur propre :\\n\", cumulative_variance_ratio)\n"
   ]
  },
  {
   "cell_type": "markdown",
   "id": "dfe47b2c",
   "metadata": {},
   "source": [
    "###  tracer le scree plot"
   ]
  },
  {
   "cell_type": "raw",
   "id": "2a8e5663",
   "metadata": {},
   "source": [
    "# Calculer les valeurs propres\n",
    "# Trier les valeurs propres en ordre décroissant\n",
    "# Tracer le scree plot\n"
   ]
  },
  {
   "cell_type": "code",
   "execution_count": 45,
   "id": "8762330c",
   "metadata": {},
   "outputs": [
    {
     "data": {
      "image/png": "[encoded data removed]",
      "text/plain": [
       "<Figure size 1000x600 with 1 Axes>"
      ]
     },
     "metadata": {},
     "output_type": "display_data"
    }
   ],
   "source": [
    "import numpy as np\n",
    "import matplotlib.pyplot as plt\n",
    "\n",
    "# Calculer les valeurs propres\n",
    "eigenvalues, _ = np.linalg.eig(inertia_matrix)\n",
    "\n",
    "# Trier les valeurs propres en ordre décroissant\n",
    "sorted_eigenvalues = np.sort(eigenvalues)[::-1]\n",
    "\n",
    "# Tracer le scree plot\n",
    "plt.figure(figsize=(10, 6))\n",
    "plt.bar(range(1, len(sorted_eigenvalues) + 1), sorted_eigenvalues, color='skyblue')\n",
    "plt.xlabel('Composante Principale')\n",
    "plt.ylabel('Valeur Propre')\n",
    "plt.title('Scree Plot')\n",
    "plt.show()"
   ]
  },
  {
   "cell_type": "markdown",
   "id": "a5c8205c",
   "metadata": {},
   "source": [
    "on remarque que les deux premieres valeurs propres (1,75 et 1.50) determinent les deux axes principaux"
   ]
  },
  {
   "cell_type": "markdown",
   "id": "0ee460c9",
   "metadata": {},
   "source": [
    "### calcul des Vecteurs PROPRES "
   ]
  },
  {
   "cell_type": "raw",
   "id": "76459c34",
   "metadata": {},
   "source": [
    "\n",
    "# Calculer les valeurs propres et vecteurs propres\n",
    "# Afficher les vecteurs propres"
   ]
  },
  {
   "cell_type": "code",
   "execution_count": 12,
   "id": "ffd4720d",
   "metadata": {},
   "outputs": [
    {
     "name": "stdout",
     "output_type": "stream",
     "text": [
      "Vecteurs propres :\n",
      " [[-5.02142426e-01 -4.96367526e-01 -7.07106781e-01  3.83700871e-02]\n",
      " [-5.00711737e-01  4.49345554e-01 -4.15174595e-15 -7.39848856e-01]\n",
      " [-4.94968408e-01  5.52564142e-01  3.82135258e-15  6.70581198e-01]\n",
      " [-5.02142426e-01 -4.96367526e-01  7.07106781e-01  3.83700871e-02]]\n"
     ]
    }
   ],
   "source": [
    "\n",
    "# Calculer les valeurs propres et vecteurs propres\n",
    "eigenvalues, eigenvectors = np.linalg.eig(inertia_matrix)\n",
    "\n",
    "# Afficher les vecteurs propres\n",
    "print(\"Vecteurs propres :\\n\", eigenvectors)\n"
   ]
  },
  {
   "cell_type": "markdown",
   "id": "eb3f94c1",
   "metadata": {},
   "source": [
    "### Axes et composantes principales"
   ]
  },
  {
   "cell_type": "raw",
   "id": "48ea47d3",
   "metadata": {},
   "source": [
    "# Triez les valeurs propres\n",
    "# Calculez le taux d'information cumulatif\n",
    "# Trouvez le nombre d'axes nécessaires pour atteindre un taux d'information proche de 95%\n"
   ]
  },
  {
   "cell_type": "code",
   "execution_count": 35,
   "id": "31ad96bc",
   "metadata": {},
   "outputs": [
    {
     "name": "stdout",
     "output_type": "stream",
     "text": [
      "Nombre d'axes pour atteindre 95.0 % d'information c'est : 2\n"
     ]
    }
   ],
   "source": [
    "import numpy as np\n",
    "\n",
    "\n",
    "# Triez les valeurs propres\n",
    "sorted_indices = np.argsort(eigenvalues)[::-1]\n",
    "sorted_eigenvalues = eigenvalues[sorted_indices]\n",
    "\n",
    "# Calculez le taux d'information cumulatif\n",
    "cumulative_variance_ratio = np.cumsum(sorted_eigenvalues) / np.sum(sorted_eigenvalues)\n",
    "\n",
    "# Trouvez le nombre d'axes nécessaires pour atteindre un taux d'information proche de 95%\n",
    "desired_variance_ratio = 0.95\n",
    "num_axes = np.argmax(cumulative_variance_ratio >= desired_variance_ratio) + 1\n",
    "\n",
    "print(\"Nombre d'axes pour atteindre {} % d'information c'est : {}\".format(desired_variance_ratio * 100, num_axes))\n"
   ]
  },
  {
   "cell_type": "raw",
   "id": "8f03bee7",
   "metadata": {},
   "source": [
    "# Triez les vecteurs propres en fonction des indices triés des valeurs propre\n",
    "# Sélectionnez les premiers 'num_axes' vecteurs propres\n"
   ]
  },
  {
   "cell_type": "code",
   "execution_count": 36,
   "id": "8c60a26a",
   "metadata": {},
   "outputs": [
    {
     "name": "stdout",
     "output_type": "stream",
     "text": [
      "Les composantes principales sont :\n",
      "[[-0.50214243 -0.49636753]\n",
      " [-0.50071174  0.44934555]\n",
      " [-0.49496841  0.55256414]\n",
      " [-0.50214243 -0.49636753]]\n"
     ]
    }
   ],
   "source": [
    "\n",
    "# Triez les vecteurs propres en fonction des indices triés des valeurs propres\n",
    "sorted_eigenvectors = eigenvectors[:, sorted_indices]\n",
    "\n",
    "# Sélectionnez les premiers 'num_axes' vecteurs propres\n",
    "principal_components = sorted_eigenvectors[:, :num_axes]\n",
    "\n",
    "print(\"Les composantes principales sont :\")\n",
    "print(principal_components)\n"
   ]
  },
  {
   "cell_type": "markdown",
   "id": "173dddb4",
   "metadata": {},
   "source": [
    "### Scores d'individus"
   ]
  },
  {
   "cell_type": "raw",
   "id": "a571365f",
   "metadata": {},
   "source": [
    "# Projetez les données sur les composantes principales\n"
   ]
  },
  {
   "cell_type": "code",
   "execution_count": 37,
   "id": "9d811002",
   "metadata": {},
   "outputs": [
    {
     "name": "stdout",
     "output_type": "stream",
     "text": [
      "Les scores des individus sur les composantes principales sont :\n",
      "[[ 0.76462124  0.02709049]\n",
      " [ 1.13271062 -0.09283143]\n",
      " [ 1.32321913 -0.22306212]\n",
      " [-0.53017123  0.43967053]\n",
      " [-8.57030596 -0.91966212]\n",
      " [ 1.06268324 -0.16205346]\n",
      " [ 1.28360799 -0.19821144]\n",
      " [-0.97305858  0.52287197]\n",
      " [ 0.28018349  0.10791977]\n",
      " [ 1.28360799 -0.19821144]\n",
      " [ 1.52931774 -0.3765824 ]\n",
      " [-2.95612333  0.93835418]\n",
      " [-1.52665109  0.5353418 ]\n",
      " [ 1.29037908 -0.29422488]\n",
      " [ 1.52975405 -0.37615111]\n",
      " [ 1.44820912 -0.34214018]\n",
      " [ 1.24974589 -0.18107233]\n",
      " [ 1.09060693 -0.1344509 ]\n",
      " [ 1.2830547  -0.23745875]\n",
      " [ 0.96591214 -0.02847554]\n",
      " [-1.10455324  0.68761505]\n",
      " [ 1.56565657 -0.40466775]\n",
      " [-0.73430279  0.42990541]\n",
      " [-0.9309251   0.82949116]\n",
      " [ 1.0131828  -0.07106069]\n",
      " [ 1.16950989 -0.14576753]\n",
      " [ 1.0221271  -0.06221924]\n",
      " [-5.0742272  -1.67045331]\n",
      " [ 0.63217409  0.08670226]\n",
      " [-2.68554925 -0.8647704 ]\n",
      " [ 0.90553179 -0.13877326]\n",
      " [ 1.25738128 -0.17352476]\n",
      " [-0.06921339  0.15700705]\n",
      " [-0.98891261 -0.30703745]\n",
      " [ 1.17782386 -0.16285506]\n",
      " [ 1.42757736 -0.29852839]\n",
      " [-0.07034026  0.44913551]\n",
      " [ 1.20882583 -0.15751552]\n",
      " [-1.96129219  0.7398296 ]\n",
      " [ 1.46086204 -0.32963277]\n",
      " [ 0.52992401  0.01241711]\n",
      " [-0.22579008  0.58723271]\n",
      " [-3.70063206  0.55219427]\n",
      " [ 0.53806909  0.17230384]\n",
      " [-1.52665109  0.5353418 ]\n",
      " [ 1.35432227 -0.25632295]\n",
      " [ 0.24106907  0.32528027]\n",
      " [-1.51351808  1.00086353]\n",
      " [ 0.99490613 -0.13973893]\n",
      " [ 1.12566097 -0.18911217]]\n"
     ]
    }
   ],
   "source": [
    "# Projetez les données sur les composantes principales\n",
    "X_pca = np.dot(df_scaled, principal_components)\n",
    "\n",
    "print(\"Les scores des individus sur les composantes principales sont :\")\n",
    "print(X_pca)"
   ]
  },
  {
   "cell_type": "raw",
   "id": "c916432d",
   "metadata": {},
   "source": [
    "Les scores des individus sur les composantes principales représentent la position de chaque individu (en l'occurrence, un vin) dans l'espace des composantes principales. \n",
    "Plus la valeur du score est élevée, plus la variabilité de la caractéristique correspondante est importante pour ce vin."
   ]
  },
  {
   "cell_type": "markdown",
   "id": "e789ea9a",
   "metadata": {},
   "source": [
    "### Visualisation des individus"
   ]
  },
  {
   "cell_type": "raw",
   "id": "89fb35c0",
   "metadata": {},
   "source": [
    "\n",
    "# Séparer les étiquettes et les données\n",
    "# Créez un graphique de dispersion des scores sur les deux premières composantes principales\n",
    "# Ajouter le repère (0, 0)\n",
    "# Ajoutez des étiquettes aux points\n",
    "# Ajoutez des titres et des étiquettes d'axe\n",
    "# Affichez le graphique\n"
   ]
  },
  {
   "cell_type": "code",
   "execution_count": 38,
   "id": "520eb78c",
   "metadata": {},
   "outputs": [
    {
     "data": {
      "image/png": "[encoded data removed]",
      "text/plain": [
       "<Figure size 1000x700 with 1 Axes>"
      ]
     },
     "metadata": {},
     "output_type": "display_data"
    }
   ],
   "source": [
    "import matplotlib.pyplot as plt\n",
    "\n",
    "\n",
    "# Séparer les étiquettes et les données\n",
    "labels = df.index\n",
    "data = df\n",
    "\n",
    "\n",
    "# Créez un graphique de dispersion des scores sur les deux premières composantes principales\n",
    "plt.figure(figsize=(10, 7))\n",
    "plt.scatter(X_pca[:, 0], X_pca[:, 1])\n",
    "\n",
    "# Ajouter le repère (0, 0)\n",
    "plt.axhline(0, color='black', linestyle='--', linewidth=0.5)\n",
    "plt.axvline(0, color='black', linestyle='--', linewidth=0.5)\n",
    "\n",
    "# Ajoutez des étiquettes aux points\n",
    "for i, label in enumerate(labels):\n",
    "    plt.text(X_pca[i, 0], X_pca[i, 1], label)\n",
    "\n",
    "# Ajoutez des titres et des étiquettes d'axe\n",
    "plt.title('Projection des individus sur les deux premières composantes principales')\n",
    "plt.xlabel('Première composante principale')\n",
    "plt.ylabel('Deuxième composante principale')\n",
    "\n",
    "# Affichez le graphique\n",
    "plt.show()\n"
   ]
  },
  {
   "cell_type": "raw",
   "id": "341cc45c",
   "metadata": {},
   "source": [
    "On remarque que un groupe de points proches de l'origine, ce qui pourrait indiquer que certains vins sont similaires ou partagent des caractéristiques similaires"
   ]
  },
  {
   "cell_type": "markdown",
   "id": "c0af16bc",
   "metadata": {},
   "source": []
  },
  {
   "cell_type": "markdown",
   "id": "23be99e7",
   "metadata": {},
   "source": [
    "### Contributions des individus :"
   ]
  },
  {
   "cell_type": "raw",
   "id": "94c81105",
   "metadata": {},
   "source": [
    "# Calculez la somme des carrés des scores pour chaque composante principale\n",
    "# Calculez la contribution de chaque individu à chaque composante principale"
   ]
  },
  {
   "cell_type": "code",
   "execution_count": 39,
   "id": "99a02554",
   "metadata": {},
   "outputs": [
    {
     "name": "stdout",
     "output_type": "stream",
     "text": [
      "Les contributions des individus aux composantes principales sont :\n",
      "[[3.12880079e-01 6.27435328e-03]\n",
      " [6.86630581e-01 7.36758938e-02]\n",
      " [9.37019744e-01 4.25389705e-01]\n",
      " [1.50424129e-01 1.65268484e+00]\n",
      " [3.93077198e+01 7.23089269e+00]\n",
      " [6.04356034e-01 2.24518388e-01]\n",
      " [8.81759248e-01 3.35886658e-01]\n",
      " [5.06714310e-01 2.33736237e+00]\n",
      " [4.20117021e-02 9.95720192e-02]\n",
      " [8.81759248e-01 3.35886658e-01]\n",
      " [1.25164351e+00 1.21242631e+00]\n",
      " [4.67660077e+00 7.52781446e+00]\n",
      " [1.24728236e+00 2.45017803e+00]\n",
      " [8.91086418e-01 7.40106335e-01]\n",
      " [1.25235779e+00 1.20965078e+00]\n",
      " [1.12240025e+00 1.00079121e+00]\n",
      " [8.35850556e-01 2.80310589e-01]\n",
      " [6.36534146e-01 1.54547781e-01]\n",
      " [8.80999260e-01 4.82071752e-01]\n",
      " [4.99298718e-01 6.93233061e-03]\n",
      " [6.52917796e-01 4.04227695e+00]\n",
      " [1.31183197e+00 1.40001444e+00]\n",
      " [2.88559620e-01 1.58008749e+00]\n",
      " [4.63782842e-01 5.88245812e+00]\n",
      " [5.49364779e-01 4.31711988e-02]\n",
      " [7.31969515e-01 1.81659005e-01]\n",
      " [5.59107100e-01 3.30967059e-02]\n",
      " [1.37792321e+01 2.38563505e+01]\n",
      " [2.13874288e-01 6.42681974e-02]\n",
      " [3.85968125e+00 6.39347482e+00]\n",
      " [4.38826254e-01 1.64644382e-01]\n",
      " [8.46095095e-01 2.57429442e-01]\n",
      " [2.56368950e-03 2.10752942e-01]\n",
      " [5.23360600e-01 8.05968428e-01]\n",
      " [7.42413558e-01 2.26745069e-01]\n",
      " [1.09064773e+00 7.61915129e-01]\n",
      " [2.64784852e-03 1.72460686e+00]\n",
      " [7.82010639e-01 2.12120196e-01]\n",
      " [2.05858970e+00 4.67949218e+00]\n",
      " [1.14209862e+00 9.28958025e-01]\n",
      " [1.50283878e-01 1.31818427e-03]\n",
      " [2.72831741e-02 2.94819224e+00]\n",
      " [7.32886988e+00 2.60686848e+00]\n",
      " [1.54939191e-01 2.53819637e-01]\n",
      " [1.24728236e+00 2.45017803e+00]\n",
      " [9.81588002e-01 5.61707628e-01]\n",
      " [3.11005569e-02 9.04587889e-01]\n",
      " [1.22591519e+00 8.56416545e+00]\n",
      " [5.29723711e-01 1.66943755e-01]\n",
      " [6.78110414e-01 3.05755487e-01]]\n"
     ]
    }
   ],
   "source": [
    "# Calculez la somme des carrés des scores pour chaque composante principale\n",
    "ss = np.sum(X_pca**2, axis=0)\n",
    "\n",
    "# Calculez la contribution de chaque individu à chaque composante principale\n",
    "contributions = (X_pca**2 / ss) * 100\n",
    "\n",
    "print(\"Les contributions des individus aux composantes principales sont :\")\n",
    "print(contributions)"
   ]
  },
  {
   "cell_type": "raw",
   "id": "ad65975c",
   "metadata": {},
   "source": [
    "# Créez un graphique à barres des contributions des individus sur le premier axe avec des couleurs différentes\n",
    "# Ajoutez des titres et des étiquettes d'axe\n",
    "# Faites pivoter les étiquettes sur l'axe des x\n",
    "# Affichez le graphique\n"
   ]
  },
  {
   "cell_type": "code",
   "execution_count": 40,
   "id": "d0882358",
   "metadata": {},
   "outputs": [
    {
     "data": {
      "image/png": "[encoded data removed]",
      "text/plain": [
       "<Figure size 1000x700 with 1 Axes>"
      ]
     },
     "metadata": {},
     "output_type": "display_data"
    }
   ],
   "source": [
    "# Créez un graphique à barres des contributions des individus sur le premier axe avec des couleurs différentes\n",
    "colors = ['red', 'green', 'blue', 'purple', 'orange', 'yellow', 'cyan', 'magenta', 'brown', 'pink', 'grey', 'lime', 'teal', 'indigo', 'salmon']\n",
    "plt.figure(figsize=(10, 7))\n",
    "bar_plot = plt.bar(labels, contributions[:, 0], color=colors)  # Notez l'index 0 pour le premier axe\n",
    "\n",
    "# Ajoutez des titres et des étiquettes d'axe\n",
    "plt.title('Contributions des individus sur le premier axe')\n",
    "plt.xlabel('Individus')\n",
    "plt.ylabel('Contributions')\n",
    "\n",
    "# Faites pivoter les étiquettes sur l'axe des x\n",
    "plt.xticks(rotation=45, ha='right')\n",
    "\n",
    "# Affichez le graphique\n",
    "plt.show()\n"
   ]
  },
  {
   "cell_type": "raw",
   "id": "635ed286",
   "metadata": {},
   "source": [
    "# Ajoutez un segment de barre pour chaque axe\n",
    "# Ajoutez des titres et des étiquettes d'axe\n",
    "# Faites pivoter et organisez les étiquettes sur l'axe des x\n",
    "# Affichez le graphique\n"
   ]
  },
  {
   "cell_type": "code",
   "execution_count": 42,
   "id": "25aad129",
   "metadata": {},
   "outputs": [
    {
     "data": {
      "image/png": "[encoded data removed]",
      "text/plain": [
       "<Figure size 1000x700 with 1 Axes>"
      ]
     },
     "metadata": {},
     "output_type": "display_data"
    }
   ],
   "source": [
    "plt.figure(figsize=(10, 7))\n",
    "\n",
    "# Ajoutez un segment de barre pour chaque axe\n",
    "for i in range(contributions.shape[1]):\n",
    "    plt.bar(np.arange(len(contributions)), contributions[:, i], bottom=np.sum(contributions[:, :i], axis=1))\n",
    "\n",
    "# Ajoutez des titres et des étiquettes d'axe\n",
    "plt.title('Contributions des individus sur plusieurs axes')\n",
    "plt.xlabel('Individus')\n",
    "plt.ylabel('Contributions')\n",
    "\n",
    "# Faites pivoter et organisez les étiquettes sur l'axe des x\n",
    "plt.xticks(np.arange(len(labels)), labels, rotation=45, ha='right')\n",
    "\n",
    "# Affichez le graphique\n",
    "plt.show()\n"
   ]
  },
  {
   "cell_type": "markdown",
   "id": "2cda9a97",
   "metadata": {},
   "source": [
    "### qualite de présentation des individus"
   ]
  },
  {
   "cell_type": "raw",
   "id": "87a35b1a",
   "metadata": {},
   "source": [
    "# Calculez le carré des coordonnées pour chaque individu sur chaque composante principale\n",
    "# Calculez la somme des carrés des coordonnées pour chaque composante principale\n",
    "# Calculez la qualité de la représentation pour chaque individu sur chaque composante principale\n"
   ]
  },
  {
   "cell_type": "code",
   "execution_count": 20,
   "id": "9bad9fb2",
   "metadata": {},
   "outputs": [
    {
     "name": "stdout",
     "output_type": "stream",
     "text": [
      "La qualité de la représentation pour chaque individu sur chaque composante principale est :\n",
      "[[3.12880079e-03 6.27435328e-05]\n",
      " [6.86630581e-03 7.36758938e-04]\n",
      " [9.37019744e-03 4.25389705e-03]\n",
      " [1.50424129e-03 1.65268484e-02]\n",
      " [3.93077198e-01 7.23089269e-02]\n",
      " [6.04356034e-03 2.24518388e-03]\n",
      " [8.81759248e-03 3.35886658e-03]\n",
      " [5.06714310e-03 2.33736237e-02]\n",
      " [4.20117021e-04 9.95720192e-04]\n",
      " [8.81759248e-03 3.35886658e-03]\n",
      " [1.25164351e-02 1.21242631e-02]\n",
      " [4.67660077e-02 7.52781446e-02]\n",
      " [1.24728236e-02 2.45017803e-02]\n",
      " [8.91086418e-03 7.40106335e-03]\n",
      " [1.25235779e-02 1.20965078e-02]\n",
      " [1.12240025e-02 1.00079121e-02]\n",
      " [8.35850556e-03 2.80310589e-03]\n",
      " [6.36534146e-03 1.54547781e-03]\n",
      " [8.80999260e-03 4.82071752e-03]\n",
      " [4.99298718e-03 6.93233061e-05]\n",
      " [6.52917796e-03 4.04227695e-02]\n",
      " [1.31183197e-02 1.40001444e-02]\n",
      " [2.88559620e-03 1.58008749e-02]\n",
      " [4.63782842e-03 5.88245812e-02]\n",
      " [5.49364779e-03 4.31711988e-04]\n",
      " [7.31969515e-03 1.81659005e-03]\n",
      " [5.59107100e-03 3.30967059e-04]\n",
      " [1.37792321e-01 2.38563505e-01]\n",
      " [2.13874288e-03 6.42681974e-04]\n",
      " [3.85968125e-02 6.39347482e-02]\n",
      " [4.38826254e-03 1.64644382e-03]\n",
      " [8.46095095e-03 2.57429442e-03]\n",
      " [2.56368950e-05 2.10752942e-03]\n",
      " [5.23360600e-03 8.05968428e-03]\n",
      " [7.42413558e-03 2.26745069e-03]\n",
      " [1.09064773e-02 7.61915129e-03]\n",
      " [2.64784852e-05 1.72460686e-02]\n",
      " [7.82010639e-03 2.12120196e-03]\n",
      " [2.05858970e-02 4.67949218e-02]\n",
      " [1.14209862e-02 9.28958025e-03]\n",
      " [1.50283878e-03 1.31818427e-05]\n",
      " [2.72831741e-04 2.94819224e-02]\n",
      " [7.32886988e-02 2.60686848e-02]\n",
      " [1.54939191e-03 2.53819637e-03]\n",
      " [1.24728236e-02 2.45017803e-02]\n",
      " [9.81588002e-03 5.61707628e-03]\n",
      " [3.11005569e-04 9.04587889e-03]\n",
      " [1.22591519e-02 8.56416545e-02]\n",
      " [5.29723711e-03 1.66943755e-03]\n",
      " [6.78110414e-03 3.05755487e-03]]\n"
     ]
    }
   ],
   "source": [
    "# Calculez le carré des coordonnées pour chaque individu sur chaque composante principale\n",
    "coordinates_squared = X_pca**2\n",
    "\n",
    "# Calculez la somme des carrés des coordonnées pour chaque composante principale\n",
    "sum_coordinates_squared = np.sum(coordinates_squared, axis=0)\n",
    "\n",
    "# Calculez la qualité de la représentation pour chaque individu sur chaque composante principale\n",
    "quality = coordinates_squared / sum_coordinates_squared\n",
    "\n",
    "print(\"La qualité de la représentation pour chaque individu sur chaque composante principale est :\")\n",
    "print(quality)"
   ]
  },
  {
   "cell_type": "raw",
   "id": "1753c2e8",
   "metadata": {},
   "source": [
    "# Calculez le carré des distances à l'origine pour chaque individu dans chaque plan\n",
    "# Calculez la somme des carrés des distances pour chaque plan\n",
    "# Calculez la qualité de la représentation pour chaque individu sur chaque plan\n"
   ]
  },
  {
   "cell_type": "code",
   "execution_count": 21,
   "id": "1a2a0bcc",
   "metadata": {},
   "outputs": [
    {
     "name": "stdout",
     "output_type": "stream",
     "text": [
      "La qualité de la représentation pour chaque individu sur chaque plan est PC1,PC2 :\n",
      "[2.94818248e-03 6.50522045e-03 9.06880140e-03 2.38920775e-03\n",
      " 3.74181066e-01 5.81980186e-03 8.49602450e-03 6.14555920e-03\n",
      " 4.54025217e-04 8.49602450e-03 1.24933326e-02 4.84456286e-02\n",
      " 1.31814372e-02 8.82192335e-03 1.24984196e-02 1.11523638e-02\n",
      " 8.03124263e-03 6.08140820e-03 8.57498847e-03 4.70293916e-03\n",
      " 8.52581487e-03 1.31702671e-02 3.64642210e-03 7.82991476e-03\n",
      " 5.19545431e-03 6.99551284e-03 5.28120364e-03 1.43728649e-01\n",
      " 2.05061146e-03 4.00894444e-02 4.22674480e-03 8.11417402e-03\n",
      " 1.48279060e-04 5.40008739e-03 7.12036053e-03 1.07128243e-02\n",
      " 1.04086698e-03 7.48438974e-03 2.21298439e-02 1.12954272e-02\n",
      " 1.41508461e-03 1.99350948e-03 7.05070159e-02 1.60764137e-03\n",
      " 1.31814372e-02 9.56853277e-03 8.25568047e-04 1.65820403e-02\n",
      " 5.08352714e-03 6.56175365e-03]\n"
     ]
    }
   ],
   "source": [
    "# Calculez le carré des distances à l'origine pour chaque individu dans chaque plan\n",
    "distances_squared = np.sum(X_pca**2, axis=1)\n",
    "\n",
    "# Calculez la somme des carrés des distances pour chaque plan\n",
    "sum_distances_squared = np.sum(distances_squared)\n",
    "\n",
    "# Calculez la qualité de la représentation pour chaque individu sur chaque plan\n",
    "quality = distances_squared / sum_distances_squared\n",
    "\n",
    "print(\"La qualité de la représentation pour chaque individu sur chaque plan est PC1,PC2 :\")\n",
    "print(quality)"
   ]
  },
  {
   "cell_type": "raw",
   "id": "1bd560a9",
   "metadata": {},
   "source": [
    "# Calculez le carré des distances à l'origine pour chaque individu dans le plan\n",
    "# Calculez la somme des carrés des distances pour le plan\n",
    "# Calculez la qualité de la représentation pour chaque individu sur le plan"
   ]
  },
  {
   "cell_type": "code",
   "execution_count": 33,
   "id": "aeab704e",
   "metadata": {},
   "outputs": [
    {
     "ename": "IndexError",
     "evalue": "index 2 is out of bounds for axis 1 with size 2",
     "output_type": "error",
     "traceback": [
      "\u001b[1;31m---------------------------------------------------------------------------\u001b[0m",
      "\u001b[1;31mIndexError\u001b[0m                                Traceback (most recent call last)",
      "Cell \u001b[1;32mIn[33], line 2\u001b[0m\n\u001b[0;32m      1\u001b[0m pc1 \u001b[38;5;241m=\u001b[39m X_pca[:, \u001b[38;5;241m0\u001b[39m]  \u001b[38;5;66;03m# Première composante principale\u001b[39;00m\n\u001b[1;32m----> 2\u001b[0m pc3 \u001b[38;5;241m=\u001b[39m X_pca[:, \u001b[38;5;241m2\u001b[39m]  \u001b[38;5;66;03m# Troisième composante principale\u001b[39;00m\n\u001b[0;32m      4\u001b[0m \u001b[38;5;66;03m# Calculez le carré des distances à l'origine pour chaque individu dans le plan\u001b[39;00m\n\u001b[0;32m      5\u001b[0m distances_squared \u001b[38;5;241m=\u001b[39m pc1\u001b[38;5;241m*\u001b[39m\u001b[38;5;241m*\u001b[39m\u001b[38;5;241m2\u001b[39m \u001b[38;5;241m+\u001b[39m pc3\u001b[38;5;241m*\u001b[39m\u001b[38;5;241m*\u001b[39m\u001b[38;5;241m2\u001b[39m\n",
      "\u001b[1;31mIndexError\u001b[0m: index 2 is out of bounds for axis 1 with size 2"
     ]
    }
   ],
   "source": [
    "pc1 = X_pca[:, 0]  # Première composante principale\n",
    "pc3 = X_pca[:, 2]  # Troisième composante principale\n",
    "\n",
    "# Calculez le carré des distances à l'origine pour chaque individu dans le plan\n",
    "distances_squared = pc1**2 + pc3**2\n",
    "\n",
    "# Calculez la somme des carrés des distances pour le plan\n",
    "sum_distances_squared = np.sum(distances_squared)\n",
    "\n",
    "# Calculez la qualité de la représentation pour chaque individu sur le plan\n",
    "quality = distances_squared / sum_distances_squared\n",
    "\n",
    "print(\"La qualité de la représentation pour chaque individu sur le plan est PC1,PC3 :\")\n",
    "print(quality)"
   ]
  },
  {
   "cell_type": "code",
   "execution_count": 43,
   "id": "3398ca56",
   "metadata": {},
   "outputs": [
    {
     "data": {
      "image/png": "[encoded data removed]",
      "text/plain": [
       "<Figure size 1000x700 with 1 Axes>"
      ]
     },
     "metadata": {},
     "output_type": "display_data"
    }
   ],
   "source": [
    "\n",
    "\n",
    "# Calculez le carré des scores pour chaque individu sur chaque axe\n",
    "scores_squared = X_pca**2\n",
    "\n",
    "# Calculez la somme des carrés des scores pour chaque individu\n",
    "sum_scores_squared = np.sum(scores_squared, axis=1)\n",
    "\n",
    "# Calculez la somme des carrés des scores pour tous les individus sur tous les axes\n",
    "total_scores_squared = np.sum(sum_scores_squared)\n",
    "\n",
    "# Calculez la qualité de la représentation pour chaque individu sur tous les axes\n",
    "quality = sum_scores_squared / total_scores_squared\n",
    "\n",
    "# Créez un graphique à barres de la qualité de la représentation pour chaque individu\n",
    "plt.figure(figsize=(10, 7))\n",
    "plt.bar(np.arange(len(quality)), quality)\n",
    "\n",
    "# Ajoutez des titres et des étiquettes d'axe\n",
    "plt.title('Qualité de la représentation pour chaque individu sur tous les axes')\n",
    "plt.xlabel('Individus')\n",
    "plt.ylabel('Qualité de la représentation')\n",
    "\n",
    "# Affichez le graphique\n",
    "plt.show()\n"
   ]
  },
  {
   "cell_type": "markdown",
   "id": "ebac8d16",
   "metadata": {},
   "source": [
    "## Etude des variables:"
   ]
  },
  {
   "cell_type": "markdown",
   "id": "1f8f7000",
   "metadata": {},
   "source": [
    "### Matrice de corrrelation"
   ]
  },
  {
   "cell_type": "raw",
   "id": "2997c83b",
   "metadata": {},
   "source": [
    "# Calculer la matrice de corrélation\n",
    "# Afficher la matrice de corrélation\n"
   ]
  },
  {
   "cell_type": "code",
   "execution_count": 44,
   "id": "111959a6",
   "metadata": {},
   "outputs": [
    {
     "name": "stdout",
     "output_type": "stream",
     "text": [
      "Matrice de corrélation :\n",
      "\n"
     ]
    },
    {
     "data": {
      "text/html": [
       "<div>\n",
       "<style scoped>\n",
       "    .dataframe tbody tr th:only-of-type {\n",
       "        vertical-align: middle;\n",
       "    }\n",
       "\n",
       "    .dataframe tbody tr th {\n",
       "        vertical-align: top;\n",
       "    }\n",
       "\n",
       "    .dataframe thead th {\n",
       "        text-align: right;\n",
       "    }\n",
       "</style>\n",
       "<table border=\"1\" class=\"dataframe\">\n",
       "  <thead>\n",
       "    <tr style=\"text-align: right;\">\n",
       "      <th></th>\n",
       "      <th>citation_count</th>\n",
       "      <th>h_index</th>\n",
       "      <th>i_index</th>\n",
       "      <th>article_count</th>\n",
       "    </tr>\n",
       "  </thead>\n",
       "  <tbody>\n",
       "    <tr>\n",
       "      <th>citation_count</th>\n",
       "      <td>1.000000</td>\n",
       "      <td>0.886639</td>\n",
       "      <td>0.865438</td>\n",
       "      <td>1.000000</td>\n",
       "    </tr>\n",
       "    <tr>\n",
       "      <th>h_index</th>\n",
       "      <td>0.886639</td>\n",
       "      <td>1.000000</td>\n",
       "      <td>0.969968</td>\n",
       "      <td>0.886639</td>\n",
       "    </tr>\n",
       "    <tr>\n",
       "      <th>i_index</th>\n",
       "      <td>0.865438</td>\n",
       "      <td>0.969968</td>\n",
       "      <td>1.000000</td>\n",
       "      <td>0.865438</td>\n",
       "    </tr>\n",
       "    <tr>\n",
       "      <th>article_count</th>\n",
       "      <td>1.000000</td>\n",
       "      <td>0.886639</td>\n",
       "      <td>0.865438</td>\n",
       "      <td>1.000000</td>\n",
       "    </tr>\n",
       "  </tbody>\n",
       "</table>\n",
       "</div>"
      ],
      "text/plain": [
       "                citation_count   h_index   i_index  article_count\n",
       "citation_count        1.000000  0.886639  0.865438       1.000000\n",
       "h_index               0.886639  1.000000  0.969968       0.886639\n",
       "i_index               0.865438  0.969968  1.000000       0.865438\n",
       "article_count         1.000000  0.886639  0.865438       1.000000"
      ]
     },
     "execution_count": 44,
     "metadata": {},
     "output_type": "execute_result"
    }
   ],
   "source": [
    "import pandas as pd\n",
    "\n",
    "# Calculer la matrice de corrélation\n",
    "correlation_matrix = df_scaled.corr()\n",
    "\n",
    "# Afficher la matrice de corrélation\n",
    "print(\"Matrice de corrélation :\\n\")\n",
    "correlation_matrix\n"
   ]
  },
  {
   "cell_type": "markdown",
   "id": "071c342b",
   "metadata": {},
   "source": [
    "### Valeurs et Vecteurs propres"
   ]
  },
  {
   "cell_type": "raw",
   "id": "1af46171",
   "metadata": {},
   "source": [
    "# Calculer les valeurs propres et les vecteurs propres\n",
    "# Afficher les valeurs propres\n"
   ]
  },
  {
   "cell_type": "code",
   "execution_count": 27,
   "id": "f5cb1b74",
   "metadata": {},
   "outputs": [
    {
     "name": "stdout",
     "output_type": "stream",
     "text": [
      "Valeurs propres :\n",
      " [ 3.73718672e+00  2.33934714e-01 -1.16124778e-16  2.88785612e-02]\n",
      "Vecteurs propres :\n",
      " [[-5.02142426e-01 -4.96367526e-01 -7.07106781e-01  3.83700871e-02]\n",
      " [-5.00711737e-01  4.49345554e-01  3.96020513e-15 -7.39848856e-01]\n",
      " [-4.94968408e-01  5.52564142e-01 -2.35373678e-15  6.70581198e-01]\n",
      " [-5.02142426e-01 -4.96367526e-01  7.07106781e-01  3.83700871e-02]]\n"
     ]
    }
   ],
   "source": [
    "# Calculer les valeurs propres et les vecteurs propres\n",
    "eigenvalues, eigenvectors = np.linalg.eig(correlation_matrix)\n",
    "\n",
    "# Afficher les valeurs propres\n",
    "print(\"Valeurs propres :\\n\" ,eigenvalues)\n",
    "\n",
    "print(\"Vecteurs propres :\\n\",eigenvectors)\n"
   ]
  },
  {
   "cell_type": "markdown",
   "id": "c0e71df1",
   "metadata": {},
   "source": [
    "### Variance"
   ]
  },
  {
   "cell_type": "code",
   "execution_count": null,
   "id": "0b164569",
   "metadata": {},
   "outputs": [],
   "source": []
  },
  {
   "cell_type": "markdown",
   "id": "dccf3fe4",
   "metadata": {},
   "source": [
    "### Axes et Composantes Prinncipales"
   ]
  },
  {
   "cell_type": "raw",
   "id": "e4bc1ac4",
   "metadata": {},
   "source": [
    "# Sélectionner les deux premiers vecteurs propres (composantes principales)\n",
    "# Afficher les composantes principales"
   ]
  },
  {
   "cell_type": "code",
   "execution_count": 28,
   "id": "ef0c329d",
   "metadata": {},
   "outputs": [
    {
     "name": "stdout",
     "output_type": "stream",
     "text": [
      "Composantes principales :\n",
      " [[-0.50214243 -0.49636753]\n",
      " [-0.50071174  0.44934555]\n",
      " [-0.49496841  0.55256414]\n",
      " [-0.50214243 -0.49636753]]\n"
     ]
    }
   ],
   "source": [
    "# Sélectionner les deux premiers vecteurs propres (composantes principales)\n",
    "principal_components = eigenvectors[:, :2]\n",
    "\n",
    "# Afficher les composantes principales\n",
    "print(\"Composantes principales :\\n\", principal_components)"
   ]
  },
  {
   "cell_type": "markdown",
   "id": "0485a64d",
   "metadata": {},
   "source": [
    "### cercle de correlation"
   ]
  },
  {
   "cell_type": "raw",
   "id": "69049bf1",
   "metadata": {},
   "source": [
    "# Afficher le cercle de corrélation\n",
    "# Dessiner le cercle\n",
    "# Dessiner les flèches des variables\n",
    "# Ajouter des axes et des étiquettes\n",
    "# Afficher le graphique\n"
   ]
  },
  {
   "cell_type": "code",
   "execution_count": 29,
   "id": "d66a42ae",
   "metadata": {},
   "outputs": [
    {
     "data": {
      "image/png": "[encoded data removed]",
      "text/plain": [
       "<Figure size 800x800 with 1 Axes>"
      ]
     },
     "metadata": {},
     "output_type": "display_data"
    }
   ],
   "source": [
    "import matplotlib.pyplot as plt\n",
    "\n",
    "\n",
    "X=df_scaled\n",
    "n = X.shape[0]  # nombre d'observations\n",
    "p = X.shape[1]  # nombre de variables\n",
    "\n",
    "\n",
    "# Afficher le cercle de corrélation\n",
    "fig, ax = plt.subplots(figsize=(8, 8))\n",
    "ax.set_xlim(-1, 1)\n",
    "ax.set_ylim(-1, 1)\n",
    "\n",
    "# Dessiner le cercle\n",
    "circle = plt.Circle((0, 0), 1, edgecolor='b', facecolor='none')\n",
    "ax.add_patch(circle)\n",
    "\n",
    "# Dessiner les flèches des variables\n",
    "for i in range(p):\n",
    "    ax.arrow(0, 0, eigenvectors[i, 0], eigenvectors[i, 1], head_width=0.1, head_length=0.1, fc='r', ec='r')\n",
    "    ax.text(eigenvectors[i, 0] * 1.15, eigenvectors[i, 1] * 1.15, X.columns[i], color='r')\n",
    "\n",
    "# Ajouter des axes et des étiquettes\n",
    "ax.axhline(0, color='black', linewidth=0.5)\n",
    "ax.axvline(0, color='black', linewidth=0.5)\n",
    "ax.set_xlabel('Première composante principale')\n",
    "ax.set_ylabel('Deuxième composante principale')\n",
    "\n",
    "# Afficher le graphique\n",
    "plt.show()\n"
   ]
  },
  {
   "cell_type": "raw",
   "id": "2dc0dc25",
   "metadata": {},
   "source": [
    "\n",
    "# Calculer les composantes principales (vecteurs propres)\n",
    "# Sélectionner les deux premiers vecteurs propres (composantes principales)\n",
    "# Calculer les coordonnées des individus dans l'espace des composantes principales\n",
    "# Créer un DataFrame pour les coordonnées des individus\n",
    "# Créer un DataFrame pour les vecteurs propres (variables)\n",
    "# Créer un biplot\n",
    "# Tracer les individus\n",
    "# Tracer les variables avec des flèches\n",
    "# Afficher le graphique\n"
   ]
  },
  {
   "cell_type": "code",
   "execution_count": null,
   "id": "bbcb1218",
   "metadata": {},
   "outputs": [],
   "source": []
  }
 ],
 "metadata": {
  "kernelspec": {
   "display_name": "Python 3 (ipykernel)",
   "language": "python",
   "name": "python3"
  },
  "language_info": {
   "codemirror_mode": {
    "name": "ipython",
    "version": 3
   },
   "file_extension": ".py",
   "mimetype": "text/x-python",
   "name": "python",
   "nbconvert_exporter": "python",
   "pygments_lexer": "ipython3",
   "version": "3.11.5"
  }
 },
 "nbformat": 4,
 "nbformat_minor": 5
}
